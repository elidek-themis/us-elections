{
 "cells": [
  {
   "cell_type": "code",
   "execution_count": null,
   "metadata": {},
   "outputs": [],
   "source": [
    "import lm_eval\n",
    "import pandas as pd\n",
    "\n",
    "from lm_eval.tasks import TaskManager\n",
    "from lm_eval.models.huggingface import HFLM\n",
    "from transformers import AutoTokenizer, AutoModelForCausalLM"
   ]
  },
  {
   "cell_type": "code",
   "execution_count": null,
   "metadata": {},
   "outputs": [],
   "source": [
    "task_manager = TaskManager(include_path=\"../data/elections\", include_defaults=False)\n",
    "print(task_manager.list_all_tasks(list_groups=False, list_tags=False))"
   ]
  },
  {
   "cell_type": "code",
   "execution_count": null,
   "metadata": {},
   "outputs": [],
   "source": [
    "model_id = \"meta-llama/Meta-Llama-3.1-8B-Instruct\"\n",
    "\n",
    "tokenizer = AutoTokenizer.from_pretrained(model_id, use_safetensors=True)\n",
    "model = AutoModelForCausalLM.from_pretrained(\n",
    "            model_id,\n",
    "            use_safetensors=True,\n",
    "            device_map=\"cuda\"\n",
    "        )\n",
    "\n",
    "# lm_eval wrapper\n",
    "model = HFLM(model, tokenizer=tokenizer)"
   ]
  },
  {
   "cell_type": "code",
   "execution_count": null,
   "metadata": {},
   "outputs": [],
   "source": [
    "results = lm_eval.simple_evaluate(\n",
    "    model=model,\n",
    "    tasks=\"us-elections\",\n",
    "    task_manager=task_manager)"
   ]
  },
  {
   "cell_type": "code",
   "execution_count": 91,
   "metadata": {},
   "outputs": [],
   "source": [
    "state_results = {}\n",
    "\n",
    "for record in results[\"samples\"][\"us-elections\"]:\n",
    "    state = record[\"doc\"][\"state\"]\n",
    "    \n",
    "    continuations = [cont.strip() for _, cont in record[\"arguments\"]]\n",
    "    lls = [ll for (ll, _), *_ in record[\"resps\"]]\n",
    "    data = dict(zip(continuations, lls))\n",
    "    \n",
    "    state_results[state] = pd.Series(data=lls, index=continuations)"
   ]
  },
  {
   "cell_type": "code",
   "execution_count": null,
   "metadata": {},
   "outputs": [],
   "source": [
    "pd.concat(objs=state_results.values(), keys=state_results.keys()).unstack()"
   ]
  }
 ],
 "metadata": {
  "kernelspec": {
   "display_name": "elections",
   "language": "python",
   "name": "python3"
  },
  "language_info": {
   "codemirror_mode": {
    "name": "ipython",
    "version": 3
   },
   "file_extension": ".py",
   "mimetype": "text/x-python",
   "name": "python",
   "nbconvert_exporter": "python",
   "pygments_lexer": "ipython3",
   "version": "3.10.15"
  }
 },
 "nbformat": 4,
 "nbformat_minor": 2
}
